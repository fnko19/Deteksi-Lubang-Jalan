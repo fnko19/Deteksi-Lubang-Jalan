{
  "nbformat": 4,
  "nbformat_minor": 0,
  "metadata": {
    "colab": {
      "provenance": [],
      "toc_visible": true,
      "include_colab_link": true
    },
    "kernelspec": {
      "name": "python3",
      "display_name": "Python 3"
    },
    "language_info": {
      "name": "python"
    }
  },
  "cells": [
    {
      "cell_type": "markdown",
      "metadata": {
        "id": "view-in-github",
        "colab_type": "text"
      },
      "source": [
        "<a href=\"https://colab.research.google.com/github/fnko19/Deteksi-Lubang-Jalan/blob/main/TB_VISKOM_D121221054.ipynb\" target=\"_parent\"><img src=\"https://colab.research.google.com/assets/colab-badge.svg\" alt=\"Open In Colab\"/></a>"
      ]
    },
    {
      "cell_type": "code",
      "execution_count": null,
      "metadata": {
        "colab": {
          "base_uri": "https://localhost:8080/"
        },
        "id": "1BwC7vhSV7pG",
        "outputId": "c31f0d8a-60bf-4b90-9b45-8e761bc547b8"
      },
      "outputs": [
        {
          "output_type": "stream",
          "name": "stdout",
          "text": [
            "Mounted at /content/drive\n"
          ]
        }
      ],
      "source": [
        "from google.colab import drive\n",
        "drive.mount('/content/drive')"
      ]
    },
    {
      "cell_type": "markdown",
      "source": [
        "# OpenCV"
      ],
      "metadata": {
        "id": "AdS5uSGcom_a"
      }
    },
    {
      "cell_type": "code",
      "source": [
        "import cv2\n",
        "import numpy as np\n",
        "\n",
        "video_path = '/content/drive/MyDrive/q.mp4'\n",
        "output_path = '/content/pothole_detected_with_opencv.mp4'\n",
        "\n",
        "cap = cv2.VideoCapture(video_path)\n",
        "fourcc = cv2.VideoWriter_fourcc(*'mp4v')\n",
        "fps = cap.get(cv2.CAP_PROP_FPS)\n",
        "width = int(cap.get(cv2.CAP_PROP_FRAME_WIDTH))\n",
        "height = int(cap.get(cv2.CAP_PROP_FRAME_HEIGHT))\n",
        "out = cv2.VideoWriter(output_path, fourcc, fps, (width, height))\n",
        "\n",
        "while cap.isOpened():\n",
        "    ret, frame = cap.read()\n",
        "    if not ret:\n",
        "        break\n",
        "\n",
        "    # Grayscale dan blur\n",
        "    gray = cv2.cvtColor(frame, cv2.COLOR_BGR2GRAY)\n",
        "    blurred = cv2.GaussianBlur(gray, (5, 5), 0)\n",
        "\n",
        "    # Hanya Canny Edge Detection\n",
        "    edges = cv2.Canny(blurred, 100, 200)\n",
        "\n",
        "    # Morphological closing\n",
        "    kernel = cv2.getStructuringElement(cv2.MORPH_RECT, (9, 9))\n",
        "    closed = cv2.morphologyEx(edges, cv2.MORPH_CLOSE, kernel)\n",
        "\n",
        "    # Temukan kontur\n",
        "    contours, _ = cv2.findContours(closed, cv2.RETR_EXTERNAL, cv2.CHAIN_APPROX_SIMPLE)\n",
        "\n",
        "    for cnt in contours:\n",
        "        x, y, w, h = cv2.boundingRect(cnt)\n",
        "        area = cv2.contourArea(cnt)\n",
        "        rect_area = w * h\n",
        "        extent = area / rect_area if rect_area > 0 else 0\n",
        "        aspect_ratio = w / float(h)\n",
        "\n",
        "        # Filter sederhana berdasarkan ukuran dan bentuk\n",
        "        if (area > 150 and extent > 0.4 and\n",
        "            1.5 <= aspect_ratio <= 10.0):\n",
        "            cv2.rectangle(frame, (x, y), (x+w, y+h), (255, 0, 0), 2)\n",
        "            cv2.putText(frame, \"ini lubang\", (x, y-10),\n",
        "                        cv2.FONT_HERSHEY_SIMPLEX, 0.7, (255, 0, 0), 2)\n",
        "\n",
        "    out.write(frame)\n",
        "\n",
        "cap.release()\n",
        "out.release()\n",
        "print(\"✅ Selesai! Video hasil (Canny only) disimpan di:\", output_path)\n"
      ],
      "metadata": {
        "colab": {
          "base_uri": "https://localhost:8080/"
        },
        "id": "WVjaAgD8IthT",
        "outputId": "da9fa4bf-ce54-4ea2-d625-7145defae34b"
      },
      "execution_count": null,
      "outputs": [
        {
          "output_type": "stream",
          "name": "stdout",
          "text": [
            "Requirement already satisfied: opencv-python in /usr/local/lib/python3.11/dist-packages (4.11.0.86)\n",
            "Requirement already satisfied: numpy>=1.21.2 in /usr/local/lib/python3.11/dist-packages (from opencv-python) (2.0.2)\n",
            "✅ Selesai! Video hasil (Canny only) disimpan di: /content/pothole_detected_with_opencv.mp4\n"
          ]
        }
      ]
    },
    {
      "cell_type": "markdown",
      "source": [
        "# Fungsi Manual"
      ],
      "metadata": {
        "id": "3sIRSIxFQAfQ"
      }
    },
    {
      "cell_type": "code",
      "source": [
        "import cv2\n",
        "import numpy as np\n",
        "from skimage.measure import label, regionprops\n",
        "\n",
        "# === Gaussian Blur Manual ===\n",
        "def manual_gaussian_blur(img, kernel_size=5, sigma=1.4):\n",
        "    from math import exp, pi\n",
        "    k = kernel_size // 2\n",
        "    kernel = np.zeros((kernel_size, kernel_size), dtype=np.float32)\n",
        "    for x in range(-k, k + 1):\n",
        "        for y in range(-k, k + 1):\n",
        "            kernel[y + k, x + k] = (1 / (2 * pi * sigma ** 2)) * exp(-(x ** 2 + y ** 2) / (2 * sigma ** 2))\n",
        "    kernel /= np.sum(kernel)\n",
        "\n",
        "    padded = np.pad(img, ((k, k), (k, k)), mode='reflect')\n",
        "    output = np.zeros_like(img, dtype=np.float32)\n",
        "\n",
        "    for i in range(img.shape[0]):\n",
        "        for j in range(img.shape[1]):\n",
        "            region = padded[i:i + kernel_size, j:j + kernel_size]\n",
        "            output[i, j] = np.sum(region * kernel)\n",
        "\n",
        "    return output.astype(np.uint8)\n",
        "\n",
        "# === Morphology Manual ===\n",
        "def dilation(img, kernel):\n",
        "    k_h, k_w = kernel.shape\n",
        "    pad_h, pad_w = k_h // 2, k_w // 2\n",
        "    padded = np.pad(img, ((pad_h, pad_h), (pad_w, pad_w)), mode='constant', constant_values=0)\n",
        "    output = np.zeros_like(img)\n",
        "\n",
        "    for i in range(img.shape[0]):\n",
        "        for j in range(img.shape[1]):\n",
        "            region = padded[i:i + k_h, j:j + k_w]\n",
        "            if np.any(region[kernel == 1]):\n",
        "                output[i, j] = 255\n",
        "    return output\n",
        "\n",
        "def erosion(img, kernel):\n",
        "    k_h, k_w = kernel.shape\n",
        "    pad_h, pad_w = k_h // 2, k_w // 2\n",
        "    padded = np.pad(img, ((pad_h, pad_h), (pad_w, pad_w)), mode='constant', constant_values=0)\n",
        "    output = np.zeros_like(img)\n",
        "\n",
        "    for i in range(img.shape[0]):\n",
        "        for j in range(img.shape[1]):\n",
        "            region = padded[i:i + k_h, j:j + k_w]\n",
        "            if np.all(region[kernel == 1] == 255):\n",
        "                output[i, j] = 255\n",
        "    return output\n",
        "\n",
        "def morphological_closing(img, kernel_size=(9, 9)):\n",
        "    kernel = np.ones(kernel_size, dtype=np.uint8)\n",
        "    dilated = dilation(img, kernel)\n",
        "    closed = erosion(dilated, kernel)\n",
        "    return closed\n",
        "\n",
        "# === Canny Manual Improved ===\n",
        "def manual_canny_improved(img, low_thresh=30, high_thresh=100):\n",
        "    Kx = np.array([[-1, 0, 1], [-2, 0, 2], [-1, 0, 1]], dtype=np.float32)\n",
        "    Ky = np.array([[1, 2, 1], [0, 0, 0], [-1, -2, -1]], dtype=np.float32)\n",
        "\n",
        "    Ix = cv2.filter2D(img, cv2.CV_64F, Kx)\n",
        "    Iy = cv2.filter2D(img, cv2.CV_64F, Ky)\n",
        "\n",
        "    G = np.hypot(Ix, Iy)\n",
        "    G = G.astype(np.uint8)\n",
        "    theta = np.arctan2(Iy, Ix)\n",
        "\n",
        "    M, N = img.shape\n",
        "    Z = np.zeros((M, N), dtype=np.uint8)\n",
        "    angle = theta * 180. / np.pi\n",
        "    angle[angle < 0] += 180\n",
        "\n",
        "    for i in range(1, M - 1):\n",
        "        for j in range(1, N - 1):\n",
        "            q = 255\n",
        "            r = 255\n",
        "            if (0 <= angle[i, j] < 22.5) or (157.5 <= angle[i, j] <= 180):\n",
        "                q = G[i, j + 1]\n",
        "                r = G[i, j - 1]\n",
        "            elif (22.5 <= angle[i, j] < 67.5):\n",
        "                q = G[i + 1, j - 1]\n",
        "                r = G[i - 1, j + 1]\n",
        "            elif (67.5 <= angle[i, j] < 112.5):\n",
        "                q = G[i + 1, j]\n",
        "                r = G[i - 1, j]\n",
        "            elif (112.5 <= angle[i, j] < 157.5):\n",
        "                q = G[i - 1, j - 1]\n",
        "                r = G[i + 1, j + 1]\n",
        "            Z[i, j] = G[i, j] if (G[i, j] >= q and G[i, j] >= r) else 0\n",
        "\n",
        "    strong, weak = 255, 75\n",
        "    res = np.zeros_like(Z, dtype=np.uint8)\n",
        "    strong_i, strong_j = np.where(Z >= high_thresh)\n",
        "    weak_i, weak_j = np.where((Z >= low_thresh) & (Z < high_thresh))\n",
        "\n",
        "    res[strong_i, strong_j] = strong\n",
        "    res[weak_i, weak_j] = weak\n",
        "\n",
        "    for i in range(1, M - 1):\n",
        "        for j in range(1, N - 1):\n",
        "            if res[i, j] == weak:\n",
        "                if np.any(res[i - 1:i + 2, j - 1:j + 2] == strong):\n",
        "                    res[i, j] = strong\n",
        "                else:\n",
        "                    res[i, j] = 0\n",
        "\n",
        "    return res\n",
        "\n",
        "# === Video Processing ===\n",
        "video_path = '/content/drive/MyDrive/q.mp4'\n",
        "output_path = '/content/pothole_detected_manual.mp4'\n",
        "\n",
        "cap = cv2.VideoCapture(video_path)\n",
        "fourcc = cv2.VideoWriter_fourcc(*'mp4v')\n",
        "fps = cap.get(cv2.CAP_PROP_FPS)\n",
        "width = int(cap.get(cv2.CAP_PROP_FRAME_WIDTH))\n",
        "height = int(cap.get(cv2.CAP_PROP_FRAME_HEIGHT))\n",
        "out = cv2.VideoWriter(output_path, fourcc, fps, (width, height))\n",
        "\n",
        "frame_count = 0\n",
        "while cap.isOpened():\n",
        "    ret, frame = cap.read()\n",
        "    if not ret:\n",
        "        break\n",
        "\n",
        "    gray = cv2.cvtColor(frame, cv2.COLOR_BGR2GRAY)\n",
        "    blurred = manual_gaussian_blur(gray, kernel_size=5, sigma=1.4)\n",
        "    edges = manual_canny_improved(blurred, 30, 100)\n",
        "    closed = morphological_closing(edges, kernel_size=(9, 9))\n",
        "\n",
        "    labeled = label(closed)\n",
        "    regions = regionprops(labeled)\n",
        "\n",
        "    for region in regions:\n",
        "        if region.area < 150:\n",
        "            continue\n",
        "\n",
        "        minr, minc, maxr, maxc = region.bbox\n",
        "        w, h = maxc - minc, maxr - minr\n",
        "        rect_area = w * h\n",
        "        extent = region.area / rect_area if rect_area > 0 else 0\n",
        "        aspect_ratio = w / float(h)\n",
        "\n",
        "        if extent > 0.4 and 1.5 <= aspect_ratio <= 10.0:\n",
        "            cv2.rectangle(frame, (minc, minr), (maxc, maxr), (255, 0, 0), 2)\n",
        "            cv2.putText(frame, \"lubang\", (minc, minr - 10), cv2.FONT_HERSHEY_SIMPLEX, 0.6, (255, 0, 0), 1)\n",
        "\n",
        "    out.write(frame)\n",
        "    frame_count += 1\n",
        "    if frame_count % 10 == 0:\n",
        "        print(f\"Memproses frame ke-{frame_count}...\")\n",
        "\n",
        "cap.release()\n",
        "out.release()\n",
        "print(\"Selesai! Video disimpan di:\", output_path)\n"
      ],
      "metadata": {
        "colab": {
          "base_uri": "https://localhost:8080/"
        },
        "id": "uYaRgJu7XvZ1",
        "outputId": "2ab29bb4-16d5-4702-d9da-3d3a39776181"
      },
      "execution_count": null,
      "outputs": [
        {
          "output_type": "stream",
          "name": "stdout",
          "text": [
            "Memproses frame ke-10...\n",
            "Memproses frame ke-20...\n",
            "Memproses frame ke-30...\n",
            "Memproses frame ke-40...\n",
            "Memproses frame ke-50...\n",
            "Memproses frame ke-60...\n",
            "Memproses frame ke-70...\n",
            "Memproses frame ke-80...\n",
            "Memproses frame ke-90...\n",
            "Memproses frame ke-100...\n",
            "Memproses frame ke-110...\n",
            "Memproses frame ke-120...\n",
            "Memproses frame ke-130...\n",
            "Memproses frame ke-140...\n",
            "Memproses frame ke-150...\n",
            "Memproses frame ke-160...\n",
            "Memproses frame ke-170...\n",
            "Memproses frame ke-180...\n",
            "Memproses frame ke-190...\n",
            "Memproses frame ke-200...\n",
            "Memproses frame ke-210...\n",
            "Selesai! Video disimpan di: /content/pothole_detected_manual.mp4\n"
          ]
        }
      ]
    }
  ]
}