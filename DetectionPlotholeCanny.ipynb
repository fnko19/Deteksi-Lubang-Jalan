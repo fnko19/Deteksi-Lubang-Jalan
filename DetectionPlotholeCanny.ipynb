{
  "nbformat": 4,
  "nbformat_minor": 0,
  "metadata": {
    "colab": {
      "provenance": [],
      "toc_visible": true,
      "include_colab_link": true
    },
    "kernelspec": {
      "name": "python3",
      "display_name": "Python 3"
    },
    "language_info": {
      "name": "python"
    }
  },
  "cells": [
    {
      "cell_type": "markdown",
      "metadata": {
        "id": "view-in-github",
        "colab_type": "text"
      },
      "source": [
        "<a href=\"https://colab.research.google.com/github/fnko19/Deteksi-Lubang-Jalan/blob/main/DetectionPlotholeCanny.ipynb\" target=\"_parent\"><img src=\"https://colab.research.google.com/assets/colab-badge.svg\" alt=\"Open In Colab\"/></a>"
      ]
    },
    {
      "cell_type": "code",
      "execution_count": null,
      "metadata": {
        "colab": {
          "base_uri": "https://localhost:8080/"
        },
        "id": "1BwC7vhSV7pG",
        "outputId": "aaf872c3-b236-47ce-8bb7-c948970796e4"
      },
      "outputs": [
        {
          "output_type": "stream",
          "name": "stdout",
          "text": [
            "Drive already mounted at /content/drive; to attempt to forcibly remount, call drive.mount(\"/content/drive\", force_remount=True).\n"
          ]
        }
      ],
      "source": [
        "from google.colab import drive\n",
        "drive.mount('/content/drive')"
      ]
    },
    {
      "cell_type": "markdown",
      "source": [
        "# Keseluruhan Code\n"
      ],
      "metadata": {
        "id": "3sIRSIxFQAfQ"
      }
    },
    {
      "cell_type": "code",
      "source": [
        "import cv2\n",
        "import numpy as np\n",
        "\n",
        "def manual_canny_improved(img, low_thresh=30, high_thresh=100):\n",
        "    Kx = np.array([[-1, 0, 1],\n",
        "                   [-2, 0, 2],\n",
        "                   [-1, 0, 1]], dtype=np.float32)\n",
        "    Ky = np.array([[1, 2, 1],\n",
        "                   [0, 0, 0],\n",
        "                   [-1, -2, -1]], dtype=np.float32)\n",
        "\n",
        "    Ix = cv2.filter2D(img, cv2.CV_64F, Kx)\n",
        "    Iy = cv2.filter2D(img, cv2.CV_64F, Ky)\n",
        "\n",
        "    G = np.hypot(Ix, Iy)\n",
        "    G = G.astype(np.uint8)\n",
        "    theta = np.arctan2(Iy, Ix)\n",
        "\n",
        "    M, N = img.shape\n",
        "    Z = np.zeros((M, N), dtype=np.uint8)\n",
        "    angle = theta * 180. / np.pi\n",
        "    angle[angle < 0] += 180\n",
        "\n",
        "    for i in range(1, M - 1):\n",
        "        for j in range(1, N - 1):\n",
        "            q = 255\n",
        "            r = 255\n",
        "\n",
        "            if (0 <= angle[i, j] < 22.5) or (157.5 <= angle[i, j] <= 180):\n",
        "                q = G[i, j + 1]\n",
        "                r = G[i, j - 1]\n",
        "            elif (22.5 <= angle[i, j] < 67.5):\n",
        "                q = G[i + 1, j - 1]\n",
        "                r = G[i - 1, j + 1]\n",
        "            elif (67.5 <= angle[i, j] < 112.5):\n",
        "                q = G[i + 1, j]\n",
        "                r = G[i - 1, j]\n",
        "            elif (112.5 <= angle[i, j] < 157.5):\n",
        "                q = G[i - 1, j - 1]\n",
        "                r = G[i + 1, j + 1]\n",
        "\n",
        "            if (G[i, j] >= q) and (G[i, j] >= r):\n",
        "                Z[i, j] = G[i, j]\n",
        "            else:\n",
        "                Z[i, j] = 0\n",
        "\n",
        "    # Double Threshold\n",
        "    strong, weak = 255, 75\n",
        "    res = np.zeros_like(Z, dtype=np.uint8)\n",
        "    strong_i, strong_j = np.where(Z >= high_thresh)\n",
        "    weak_i, weak_j = np.where((Z >= low_thresh) & (Z < high_thresh))\n",
        "\n",
        "    res[strong_i, strong_j] = strong\n",
        "    res[weak_i, weak_j] = weak\n",
        "\n",
        "    # Hysteresis\n",
        "    for i in range(1, M - 1):\n",
        "        for j in range(1, N - 1):\n",
        "            if res[i, j] == weak:\n",
        "                if np.any(res[i - 1:i + 2, j - 1:j + 2] == strong):\n",
        "                    res[i, j] = strong\n",
        "                else:\n",
        "                    res[i, j] = 0\n",
        "\n",
        "    return res\n",
        "\n",
        "# === Proses Seluruh Video ===\n",
        "video_path = '/content/drive/MyDrive/p.mp4'\n",
        "output_path = '/content/pothole_detected_canny_manual.mp4'\n",
        "\n",
        "cap = cv2.VideoCapture(video_path)\n",
        "fourcc = cv2.VideoWriter_fourcc(*'mp4v')\n",
        "fps = cap.get(cv2.CAP_PROP_FPS)\n",
        "width = int(cap.get(cv2.CAP_PROP_FRAME_WIDTH))\n",
        "height = int(cap.get(cv2.CAP_PROP_FRAME_HEIGHT))\n",
        "out = cv2.VideoWriter(output_path, fourcc, fps, (width, height))\n",
        "\n",
        "frame_count = 0\n",
        "while cap.isOpened():\n",
        "    ret, frame = cap.read()\n",
        "    if not ret:\n",
        "        break\n",
        "\n",
        "    gray = cv2.cvtColor(frame, cv2.COLOR_BGR2GRAY)\n",
        "    #equalized = cv2.equalizeHist(gray) <---- aktifkan ini KHUSUS kalau mau mencoba dengan Histogram Equalization (matikan kalau tidak)\n",
        "    #clahe = cv2.createCLAHE(clipLimit=2.0, tileGridSize=(8, 8)) <---- aktifkan ini KHUSUS kalau mau mencoba dengan CLAHE (matikan kalau tidak)\n",
        "    #equalized = clahe.apply(gray) <---- aktifkan ini kalau KHUSUS mau mencoba dengan CLAHE (matikan kalau tidak)\n",
        "    blurred = cv2.GaussianBlur(gray, (5, 5), sigmaX=1.4)\n",
        "\n",
        "    edges = manual_canny_improved(blurred, 30, 100)\n",
        "    kernel = cv2.getStructuringElement(cv2.MORPH_RECT, (9, 9))\n",
        "    closed = cv2.morphologyEx(edges, cv2.MORPH_CLOSE, kernel)\n",
        "\n",
        "    contours, _ = cv2.findContours(closed, cv2.RETR_EXTERNAL, cv2.CHAIN_APPROX_SIMPLE)\n",
        "\n",
        "    for cnt in contours:\n",
        "        x, y, w, h = cv2.boundingRect(cnt)\n",
        "        area = cv2.contourArea(cnt)\n",
        "        rect_area = w * h\n",
        "        extent = area / rect_area if rect_area > 0 else 0\n",
        "        aspect_ratio = w / float(h)\n",
        "\n",
        "        if area > 150 and extent > 0.4 and 1.5 <= aspect_ratio <= 10.0:\n",
        "            cv2.rectangle(frame, (x, y), (x + w, y + h), (255, 0, 0), 2)\n",
        "            cv2.putText(frame, \"lubang\", (x, y - 10),\n",
        "                        cv2.FONT_HERSHEY_SIMPLEX, 0.6, (255, 0, 0), 1)\n",
        "\n",
        "    out.write(frame)\n",
        "    frame_count += 1\n",
        "    if frame_count % 10 == 0:\n",
        "        print(f\"Memproses frame ke-{frame_count}...\")\n",
        "\n",
        "cap.release()\n",
        "out.release()\n",
        "print(\"Selesai! Video disimpan di:\", output_path)\n"
      ],
      "metadata": {
        "colab": {
          "base_uri": "https://localhost:8080/"
        },
        "id": "8Q2cEv7ZAlW2",
        "outputId": "1ddb8bac-2cb1-4f5a-e88d-c854489e46b3"
      },
      "execution_count": null,
      "outputs": [
        {
          "output_type": "stream",
          "name": "stdout",
          "text": [
            "🧩 Memproses frame ke-10...\n",
            "🧩 Memproses frame ke-20...\n",
            "🧩 Memproses frame ke-30...\n",
            "🧩 Memproses frame ke-40...\n",
            "🧩 Memproses frame ke-50...\n",
            "🧩 Memproses frame ke-60...\n",
            "🧩 Memproses frame ke-70...\n",
            "🧩 Memproses frame ke-80...\n",
            "🧩 Memproses frame ke-90...\n",
            "🧩 Memproses frame ke-100...\n",
            "🧩 Memproses frame ke-110...\n",
            "🧩 Memproses frame ke-120...\n",
            "🧩 Memproses frame ke-130...\n",
            "🧩 Memproses frame ke-140...\n",
            "🧩 Memproses frame ke-150...\n",
            "🧩 Memproses frame ke-160...\n",
            "🧩 Memproses frame ke-170...\n",
            "🧩 Memproses frame ke-180...\n",
            "🧩 Memproses frame ke-190...\n",
            "🧩 Memproses frame ke-200...\n",
            "🧩 Memproses frame ke-210...\n",
            "🧩 Memproses frame ke-220...\n",
            "🧩 Memproses frame ke-230...\n",
            "🧩 Memproses frame ke-240...\n",
            "🧩 Memproses frame ke-250...\n",
            "🧩 Memproses frame ke-260...\n",
            "🧩 Memproses frame ke-270...\n",
            "🧩 Memproses frame ke-280...\n",
            "🧩 Memproses frame ke-290...\n",
            "🧩 Memproses frame ke-300...\n",
            "🧩 Memproses frame ke-310...\n",
            "🧩 Memproses frame ke-320...\n",
            "🧩 Memproses frame ke-330...\n",
            "🧩 Memproses frame ke-340...\n",
            "🧩 Memproses frame ke-350...\n",
            "🧩 Memproses frame ke-360...\n",
            "🧩 Memproses frame ke-370...\n",
            "🧩 Memproses frame ke-380...\n",
            "🧩 Memproses frame ke-390...\n",
            "🧩 Memproses frame ke-400...\n",
            "🧩 Memproses frame ke-410...\n",
            "🧩 Memproses frame ke-420...\n",
            "🧩 Memproses frame ke-430...\n",
            "🧩 Memproses frame ke-440...\n",
            "🧩 Memproses frame ke-450...\n",
            "🧩 Memproses frame ke-460...\n",
            "🧩 Memproses frame ke-470...\n",
            "🧩 Memproses frame ke-480...\n",
            "🧩 Memproses frame ke-490...\n",
            "🧩 Memproses frame ke-500...\n",
            "🧩 Memproses frame ke-510...\n",
            "🧩 Memproses frame ke-520...\n",
            "🧩 Memproses frame ke-530...\n",
            "🧩 Memproses frame ke-540...\n",
            "🧩 Memproses frame ke-550...\n",
            "🧩 Memproses frame ke-560...\n",
            "🧩 Memproses frame ke-570...\n",
            "🧩 Memproses frame ke-580...\n",
            "🧩 Memproses frame ke-590...\n",
            "🧩 Memproses frame ke-600...\n",
            "🧩 Memproses frame ke-610...\n",
            "🧩 Memproses frame ke-620...\n",
            "🧩 Memproses frame ke-630...\n",
            "🧩 Memproses frame ke-640...\n",
            "🧩 Memproses frame ke-650...\n",
            "🧩 Memproses frame ke-660...\n",
            "🧩 Memproses frame ke-670...\n",
            "🧩 Memproses frame ke-680...\n",
            "🧩 Memproses frame ke-690...\n",
            "✅ Selesai! Video disimpan di: /content/pothole_detected_canny_manual.mp4\n"
          ]
        }
      ]
    }
  ]
}